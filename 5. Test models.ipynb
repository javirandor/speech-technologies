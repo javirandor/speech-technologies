{
 "cells": [
  {
   "cell_type": "markdown",
   "metadata": {},
   "source": [
    "# Test the model using default and adapted models\n",
    "\n",
    "Once the model has been adapted, we can test its accuracy versus the one of the default model."
   ]
  },
  {
   "cell_type": "code",
   "execution_count": 44,
   "metadata": {},
   "outputs": [
    {
     "name": "stdout",
     "output_type": "stream",
     "text": [
      "Best hypothesis with new model: las fiji misiles y desde ese quién es\n",
      "Best hypothesis with old model: líneas de fiji inicien el es diez quién rico\n"
     ]
    }
   ],
   "source": [
    "from os import environ, path\n",
    "\n",
    "from pocketsphinx.pocketsphinx import *\n",
    "from sphinxbase.sphinxbase import *\n",
    "\n",
    "MODELDIR = \"/Users/javirando/Desktop/Universidad/3º/3 Trimestre/Speech/Final Project/models/\"\n",
    "DATADIR = \"/Users/javirando/Desktop/Universidad/3º/3 Trimestre/Speech/Final Project/models/es-es/\"\n",
    "\n",
    "audio = \"FREWB1.mp3_39000_43500.wav\"\n",
    "\n",
    "# Create a decoder with certain model\n",
    "config = Decoder.default_config()\n",
    "config.set_string('-hmm', path.join(MODELDIR, 'original-es/es-es'))\n",
    "config.set_string('-lm', path.join(MODELDIR, 'original-es/es-20k-sorted.lm'))\n",
    "config.set_string('-dict', path.join(MODELDIR, 'original-es/es.dict'))\n",
    "decoder = Decoder(config)\n",
    "\n",
    "# Decode streaming data.\n",
    "decoder = Decoder(config)\n",
    "decoder.start_utt()\n",
    "stream = open(path.join(DATADIR, audio), 'rb')\n",
    "while True:\n",
    "  buf = stream.read(1024)\n",
    "  if buf:\n",
    "    decoder.process_raw(buf, False, False)\n",
    "  else:\n",
    "    break\n",
    "decoder.end_utt()\n",
    "hypothesis = decoder.hyp()\n",
    "print ('Best hypothesis with new model: {}'.format(hypothesis.hypstr))\n",
    "\n",
    "# Create a decoder with certain model\n",
    "config = Decoder.default_config()\n",
    "config.set_string('-hmm', path.join(MODELDIR, 'original-es/es-es2'))\n",
    "config.set_string('-lm', path.join(MODELDIR, 'original-es/es-20k-sorted.lm'))\n",
    "config.set_string('-dict', path.join(MODELDIR, 'original-es/es.dict'))\n",
    "decoder = Decoder(config)\n",
    "\n",
    "# Decode streaming data.\n",
    "decoder = Decoder(config)\n",
    "decoder.start_utt()\n",
    "stream = open(path.join(DATADIR, audio), 'rb')\n",
    "while True:\n",
    "  buf = stream.read(1024)\n",
    "  if buf:\n",
    "    decoder.process_raw(buf, False, False)\n",
    "  else:\n",
    "    break\n",
    "decoder.end_utt()\n",
    "hypothesis = decoder.hyp()\n",
    "print ('Best hypothesis with old model: {}'.format(hypothesis.hypstr))"
   ]
  },
  {
   "cell_type": "code",
   "execution_count": null,
   "metadata": {},
   "outputs": [],
   "source": []
  }
 ],
 "metadata": {
  "kernelspec": {
   "display_name": "Python 3",
   "language": "python",
   "name": "python3"
  },
  "language_info": {
   "codemirror_mode": {
    "name": "ipython",
    "version": 3
   },
   "file_extension": ".py",
   "mimetype": "text/x-python",
   "name": "python",
   "nbconvert_exporter": "python",
   "pygments_lexer": "ipython3",
   "version": "3.7.4"
  }
 },
 "nbformat": 4,
 "nbformat_minor": 4
}
